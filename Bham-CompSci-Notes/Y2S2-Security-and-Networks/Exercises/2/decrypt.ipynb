{
 "cells": [
  {
   "cell_type": "code",
   "execution_count": 7,
   "metadata": {},
   "outputs": [],
   "source": [
    "from cryptography.hazmat.primitives.ciphers import Cipher, algorithms, modes\n",
    "from cryptography.hazmat.backends import default_backend\n",
    "import os\n",
    "import binascii\n",
    "\n",
    "def xor_bytes(a, b):\n",
    "    return bytes(x ^ y for x, y in zip(a, b))\n",
    "\n",
    "def modify_ciphertext(ciphertext, plaintext, new_plaintext):\n",
    "    # Decode ciphertext from hex\n",
    "    ciphertext = binascii.unhexlify(ciphertext)\n",
    "\n",
    "    # Generate a random 16-byte nonce\n",
    "    nonce = os.urandom(16)\n",
    "\n",
    "    # Initialize AES cipher in CTR mode\n",
    "    backend = default_backend()\n",
    "    cipher = Cipher(algorithms.AES(plaintext[:16]), modes.CTR(nonce), backend=backend)\n",
    "    encryptor = cipher.encryptor()\n",
    "\n",
    "    # Encrypt the new plaintext\n",
    "    encrypted_new_plaintext = encryptor.update(new_plaintext) + encryptor.finalize()\n",
    "\n",
    "    # XOR the new plaintext with the original ciphertext to get modified ciphertext\n",
    "    modified_ciphertext = xor_bytes(ciphertext, encrypted_new_plaintext)\n",
    "\n",
    "    # Return modified ciphertext as hex string\n",
    "    return binascii.hexlify(modified_ciphertext).decode()\n"
   ]
  },
  {
   "cell_type": "code",
   "execution_count": 8,
   "metadata": {},
   "outputs": [],
   "source": [
    "ciphertext_hex = \"725ada294ca31c8c1a8835ec61383f96619d2f7b2ab594bfe9c2be733be45f54d6a38b\"\n",
    "plaintext  = b\"Pay Tom 1000 pounds\"\n",
    "new_plaintext = b\"Pay Bob 9999 pounds\""
   ]
  },
  {
   "cell_type": "code",
   "execution_count": 11,
   "metadata": {},
   "outputs": [
    {
     "data": {
      "text/plain": [
       "b'\\x00\\x00\\x00\\x00\\x16\\x00\\x0f\\x00\\x08\\t\\t\\t\\x00\\x00\\x00\\x00\\x00\\x00\\x00'"
      ]
     },
     "execution_count": 11,
     "metadata": {},
     "output_type": "execute_result"
    }
   ],
   "source": [
    "XOR = xor_bytes(plaintext, new_plaintext)"
   ]
  },
  {
   "cell_type": "code",
   "execution_count": 10,
   "metadata": {},
   "outputs": [
    {
     "name": "stdout",
     "output_type": "stream",
     "text": [
      "Modified ciphertext: 76c6703fd91b40512a3f58f76244a69fff6daf\n"
     ]
    }
   ],
   "source": [
    "print(\"Original Ciphertext:\", ciphertext)"
   ]
  },
  {
   "cell_type": "code",
   "execution_count": null,
   "metadata": {},
   "outputs": [],
   "source": [
    "print(\"Modified Ciphertext:\", modified_ciphertext)"
   ]
  },
  {
   "cell_type": "code",
   "execution_count": null,
   "metadata": {},
   "outputs": [],
   "source": []
  }
 ],
 "metadata": {
  "kernelspec": {
   "display_name": "S2TENV",
   "language": "python",
   "name": "python3"
  },
  "language_info": {
   "codemirror_mode": {
    "name": "ipython",
    "version": 3
   },
   "file_extension": ".py",
   "mimetype": "text/x-python",
   "name": "python",
   "nbconvert_exporter": "python",
   "pygments_lexer": "ipython3",
   "version": "3.9.12"
  }
 },
 "nbformat": 4,
 "nbformat_minor": 2
}
